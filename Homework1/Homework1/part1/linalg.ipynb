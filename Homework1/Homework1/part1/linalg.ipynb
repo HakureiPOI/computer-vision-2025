{
  "nbformat": 4,
  "nbformat_minor": 0,
  "metadata": {
    "colab": {
      "provenance": []
    },
    "kernelspec": {
      "name": "python3",
      "display_name": "Python 3"
    },
    "language_info": {
      "name": "python"
    }
  },
  "cells": [
    {
      "cell_type": "code",
      "execution_count": 1,
      "metadata": {
        "id": "Alob_4W3MJm-"
      },
      "outputs": [],
      "source": [
        "import numpy as np"
      ]
    },
    {
      "cell_type": "code",
      "source": [
        "def dot_product(a, b):\n",
        "    \"\"\"Implement dot product between the two vectors: a and b.\n",
        "\n",
        "    (optional): While you can solve this using for loops, we recommend\n",
        "    that you look up `np.dot()` online and use that instead.\n",
        "\n",
        "    When inputs are 2-D array, `np.matmul()` and `np.dot()` have same result,\n",
        "    you can also use `np.matmul()`.\n",
        "\n",
        "    notice that `np.dot()` and `np.matmul()` need `a` with shape (x, n), `b` with shape `(n, x)\n",
        "    so you need to transpose `a`, you can use syntax `a.T`.\n",
        "\n",
        "\n",
        "    Args:\n",
        "        a: numpy array of shape (n, x)\n",
        "        b: numpy array of shape (n, x)\n",
        "\n",
        "    Returns:\n",
        "        out: numpy array of shape (x, x) (scalar if x = 1)\n",
        "    \"\"\"\n",
        "\n",
        "    # Input validation\n",
        "    if a.shape != b.shape:\n",
        "        raise ValueError(\"Input arrays must have the same shape.\")\n",
        "    if a.ndim != 2 or b.ndim != 2:\n",
        "        raise ValueError(\"Input arrays must be 2-dimensional.\")\n",
        "\n",
        "    # Calculate dot product\n",
        "    out = np.dot(a.T, b)\n",
        "    return out"
      ],
      "metadata": {
        "id": "WPwZoiSkMSx_"
      },
      "execution_count": 2,
      "outputs": []
    },
    {
      "cell_type": "code",
      "source": [
        "a = np.array([[1, 2], [3, 4]])\n",
        "b = np.array([[1, 2], [3, 4]])\n",
        "dot_product(a, b)"
      ],
      "metadata": {
        "colab": {
          "base_uri": "https://localhost:8080/"
        },
        "id": "S3A9K-GpM-uH",
        "outputId": "df2be46a-2d26-4578-bfc8-12273c59e2eb"
      },
      "execution_count": 3,
      "outputs": [
        {
          "output_type": "execute_result",
          "data": {
            "text/plain": [
              "array([[10, 14],\n",
              "       [14, 20]])"
            ]
          },
          "metadata": {},
          "execution_count": 3
        }
      ]
    },
    {
      "cell_type": "code",
      "source": [
        "def complicated_matrix_function(M, a, b):\n",
        "    \"\"\"Implement (a^Tb) x (Ma), `a^T` is transpose of `a`,\n",
        "    (a^Tb) is matrix multiplication of a^T and b,\n",
        "    (Ma) is matrix multiplication of M and a.\n",
        "\n",
        "    You can use `np.matmul()` to do matrix multiplication.\n",
        "\n",
        "    Args:\n",
        "        M: numpy matrix of shape (x, n).\n",
        "        a: numpy array of shape (n, 1).\n",
        "        b: numpy array of shape (n, 1).\n",
        "\n",
        "    Returns:\n",
        "        out: numpy matrix of shape (x, 1).\n",
        "    \"\"\"\n",
        "\n",
        "    # Input validation\n",
        "    if a.shape != b.shape:\n",
        "        raise ValueError(\"Input arrays must have the same shape.\")\n",
        "    if a.ndim != 2 or b.ndim != 2:\n",
        "        raise ValueError(\"Input arrays must be 2-dimensional.\")\n",
        "    if a.shape[1] != 1 or b.shape[1] != 1:\n",
        "        raise ValueError(\"Input arrays must have shape (n, 1).\")\n",
        "    if M.shape[1] != a.shape[0]:\n",
        "        raise ValueError(\"Input arrays must have compatible shapes.\")\n",
        "\n",
        "    # Calculate (a^Tb) x (Ma)\n",
        "    out = np.dot(a.T, b) * np.dot(M, a)\n",
        "    return out"
      ],
      "metadata": {
        "id": "w2F1VxppNB8q"
      },
      "execution_count": 4,
      "outputs": []
    },
    {
      "cell_type": "code",
      "source": [
        "M = np.array([[1, 2], [3, 4]])\n",
        "a = np.array([[1], [2]])\n",
        "b = np.array([[1], [2]])\n",
        "complicated_matrix_function(M, a, b)"
      ],
      "metadata": {
        "colab": {
          "base_uri": "https://localhost:8080/"
        },
        "id": "Jyu0j5QZPmnJ",
        "outputId": "c364345b-b73f-467b-9004-f402220961f5"
      },
      "execution_count": 5,
      "outputs": [
        {
          "output_type": "execute_result",
          "data": {
            "text/plain": [
              "array([[25],\n",
              "       [55]])"
            ]
          },
          "metadata": {},
          "execution_count": 5
        }
      ]
    },
    {
      "cell_type": "code",
      "source": [
        "def eigen_decomp(M):\n",
        "    \"\"\"Implement eigenvalue decomposition.\n",
        "\n",
        "    (optional): You might find the `np.linalg.eig` function useful.\n",
        "\n",
        "    Args:\n",
        "        matrix: numpy matrix of shape (m, m)\n",
        "\n",
        "    Returns:\n",
        "        w: numpy array of shape (m,) such that the column v[:,i] is the eigenvector corresponding to the eigenvalue w[i].\n",
        "        v: Matrix where every column is an eigenvector.\n",
        "    \"\"\"\n",
        "\n",
        "    # Input validation\n",
        "    if M.shape[0] != M.shape[1]:\n",
        "        raise ValueError(\"Input matrix must be square.\")\n",
        "    if M.ndim != 2:\n",
        "        raise ValueError(\"Input matrix must be 2-dimensional.\")\n",
        "\n",
        "    # Calculate eigenvalue decomposition\n",
        "    w, v = np.linalg.eig(M)\n",
        "    return w, v"
      ],
      "metadata": {
        "id": "IFXS8hNAPw8i"
      },
      "execution_count": 6,
      "outputs": []
    },
    {
      "cell_type": "code",
      "source": [
        "eigen_decomp(np.array([[1, 2], [3, 4]]))"
      ],
      "metadata": {
        "colab": {
          "base_uri": "https://localhost:8080/"
        },
        "id": "IkA6C_RRQWYr",
        "outputId": "2204f667-5745-40b4-9988-a743107555cc"
      },
      "execution_count": 7,
      "outputs": [
        {
          "output_type": "execute_result",
          "data": {
            "text/plain": [
              "(array([-0.37228132,  5.37228132]),\n",
              " array([[-0.82456484, -0.41597356],\n",
              "        [ 0.56576746, -0.90937671]]))"
            ]
          },
          "metadata": {},
          "execution_count": 7
        }
      ]
    },
    {
      "cell_type": "code",
      "source": [
        "def euclidean_distance_native(u, v):\n",
        "    \"\"\"Computes the Euclidean distance between two vectors, represented as Python\n",
        "    lists.\n",
        "\n",
        "    Args:\n",
        "        u (List[float]): A vector, represented as a list of floats.\n",
        "        v (List[float]): A vector, represented as a list of floats.\n",
        "\n",
        "    Returns:\n",
        "        float: Euclidean distance between `u` and `v`.\n",
        "    \"\"\"\n",
        "    # First, run some checks:\n",
        "    # assert isinstance(u, list)\n",
        "    # assert isinstance(v, list)\n",
        "    # assert len(u) == len(v)\n",
        "\n",
        "    if not isinstance(u, list):\n",
        "        raise ValueError(\"Input u must be a list.\")\n",
        "    if not isinstance(v, list):\n",
        "        raise ValueError(\"Input v must be a list.\")\n",
        "    if len(u) != len(v):\n",
        "        raise ValueError(\"Input lists must have the same length.\")\n",
        "\n",
        "    # Compute the distance!\n",
        "    # Notes:\n",
        "    #  1) Try breaking this problem down: first, we want to get\n",
        "    #     the difference between corresponding elements in our\n",
        "    #     input arrays. Then, we want to square these differences.\n",
        "    #     Finally, we want to sum the squares and square root the\n",
        "    #     sum.\n",
        "\n",
        "    # distance = np.sum(np.square(np.array(u) - np.array(v)))\n",
        "    # distance = np.sqrt(distance)\n",
        "\n",
        "    distance = np.linalg.norm(np.array(u) - np.array(v))\n",
        "    return distance"
      ],
      "metadata": {
        "id": "JyEn3n6eQxHm"
      },
      "execution_count": 8,
      "outputs": []
    },
    {
      "cell_type": "code",
      "source": [
        "u = [1, 2, 3]\n",
        "v = [2, 3, 4]\n",
        "euclidean_distance_native(u, v)"
      ],
      "metadata": {
        "colab": {
          "base_uri": "https://localhost:8080/"
        },
        "id": "PqcDceRcRSvX",
        "outputId": "50c57b71-02e5-46d7-94b4-aa730f0ca45d"
      },
      "execution_count": 9,
      "outputs": [
        {
          "output_type": "execute_result",
          "data": {
            "text/plain": [
              "np.float64(1.7320508075688772)"
            ]
          },
          "metadata": {},
          "execution_count": 9
        }
      ]
    },
    {
      "cell_type": "code",
      "source": [
        "def euclidean_distance_numpy(u, v):\n",
        "    \"\"\"Computes the Euclidean distance between two vectors, represented as NumPy\n",
        "    arrays.\n",
        "\n",
        "    Args:\n",
        "        u (np.ndarray): A vector, represented as a NumPy array.\n",
        "        v (np.ndarray): A vector, represented as a NumPy array.\n",
        "\n",
        "    Returns:\n",
        "        float: Euclidean distance between `u` and `v`.\n",
        "    \"\"\"\n",
        "    # First, run some checks:\n",
        "    # assert isinstance(u, np.ndarray)\n",
        "    # assert isinstance(v, np.ndarray)\n",
        "    # assert u.shape == v.shape\n",
        "\n",
        "    if not isinstance(u, np.ndarray):\n",
        "        raise ValueError(\"Input u must be a NumPy array.\")\n",
        "    if not isinstance(v, np.ndarray):\n",
        "        raise ValueError(\"Input v must be a NumPy array.\")\n",
        "    if u.shape != v.shape:\n",
        "        raise ValueError(\"Input arrays must have the same shape.\")\n",
        "\n",
        "    # if u.ndim != 1 or v.ndim != 1:\n",
        "    #     raise ValueError(\"Input arrays must be 1-dimensional.\")\n",
        "\n",
        "    # Compute the distance!\n",
        "    # Note:\n",
        "    #  1) You shouldn't need any loops\n",
        "    #  2) Some functions you can Google that might be useful:\n",
        "    #         np.sqrt(), np.sum()\n",
        "    #  3) Try breaking this problem down: first, we want to get\n",
        "    #     the difference between corresponding elements in our\n",
        "    #     input arrays. Then, we want to square these differences.\n",
        "    #     Finally, we want to sum the squares and square root the\n",
        "    #     sum.\n",
        "\n",
        "    return np.linalg.norm(u - v)"
      ],
      "metadata": {
        "id": "SZ6Q9bmnR87P"
      },
      "execution_count": 10,
      "outputs": []
    },
    {
      "cell_type": "code",
      "source": [
        "u = np.array([1, 2, 3])\n",
        "v = np.array([2, 3, 4])\n",
        "euclidean_distance_numpy(u, v)"
      ],
      "metadata": {
        "colab": {
          "base_uri": "https://localhost:8080/"
        },
        "id": "ZdTbUK9pSWo2",
        "outputId": "629f7f6e-40c2-46b1-baaa-e5a7284e32cf"
      },
      "execution_count": 11,
      "outputs": [
        {
          "output_type": "execute_result",
          "data": {
            "text/plain": [
              "np.float64(1.7320508075688772)"
            ]
          },
          "metadata": {},
          "execution_count": 11
        }
      ]
    },
    {
      "cell_type": "code",
      "source": [
        "def get_eigen_values_and_vectors(M, k):\n",
        "    \"\"\"Return top k eigenvalues and eigenvectors of matrix M. By top k\n",
        "    here we mean the eigenvalues with the top ABSOLUTE values (lookup\n",
        "    np.argsort for a hint on how to do so.)\n",
        "\n",
        "    (optional): Use the `eigen_decomp(M)` function you wrote above\n",
        "    as a helper function\n",
        "\n",
        "    Args:\n",
        "        M: numpy matrix of shape (m, m).\n",
        "        k: number of eigen values and respective vectors to return.\n",
        "\n",
        "    Returns:\n",
        "        eigenvalues: list of length k containing the top k eigenvalues\n",
        "        eigenvectors: list of length k containing the top k eigenvectors\n",
        "            of shape (m,)\n",
        "    \"\"\"\n",
        "\n",
        "    # Input validation\n",
        "    if M.shape[0] != M.shape[1]:\n",
        "        raise ValueError(\"Input matrix must be square.\")\n",
        "    if M.ndim != 2:\n",
        "        raise ValueError(\"Input matrix must be 2-dimensional.\")\n",
        "\n",
        "    eigenvalues_all, eigenvectors_all = eigen_decomp(M)\n",
        "\n",
        "    indices = np.argsort(np.abs(eigenvalues_all))[::-1]\n",
        "    top_indices = indices[:k]\n",
        "\n",
        "    eigenvalues = [eigenvalues_all[i] for i in top_indices]\n",
        "    eigenvectors = [eigenvectors_all[:, i] for i in top_indices]\n",
        "\n",
        "    return eigenvalues, eigenvectors"
      ],
      "metadata": {
        "id": "7Yh-QlIcS4ce"
      },
      "execution_count": 12,
      "outputs": []
    },
    {
      "cell_type": "code",
      "source": [
        "M = np.array([[1, 2, 3],\n",
        "              [1, 2, 3],\n",
        "              [1, 2, 3]])\n",
        "\n",
        "get_eigen_values_and_vectors(M, 2)"
      ],
      "metadata": {
        "colab": {
          "base_uri": "https://localhost:8080/"
        },
        "id": "2y4xLeddUb5W",
        "outputId": "aa6a7934-77bb-4b68-8532-a1b4a641cb42"
      },
      "execution_count": 13,
      "outputs": [
        {
          "output_type": "execute_result",
          "data": {
            "text/plain": [
              "([np.float64(5.999999999999995), np.float64(-4.589538431149149e-16)],\n",
              " [array([-0.57735027, -0.57735027, -0.57735027]),\n",
              "  array([ 0.89869292, -0.43851903, -0.00721829])])"
            ]
          },
          "metadata": {},
          "execution_count": 13
        }
      ]
    },
    {
      "cell_type": "code",
      "source": [],
      "metadata": {
        "id": "fzP8MYe2UlIF"
      },
      "execution_count": 13,
      "outputs": []
    }
  ]
}